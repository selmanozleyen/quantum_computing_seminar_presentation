{
 "cells": [
  {
   "cell_type": "markdown",
   "id": "309e3eb9-3799-4afa-8a33-ecf0f7373890",
   "metadata": {},
   "source": [
    "# Grover's Search\n",
    "Author: Selman Özleyen"
   ]
  },
  {
   "cell_type": "markdown",
   "id": "e0812e26-7eaf-4e92-984c-ef8949853194",
   "metadata": {
    "tags": [],
    "toc-hr-collapsed": true
   },
   "source": [
    "## Setup"
   ]
  },
  {
   "cell_type": "code",
   "execution_count": 1,
   "id": "8c47db69-d6dd-4f6a-bf82-090ca0508ace",
   "metadata": {},
   "outputs": [],
   "source": [
    "# initializations for utils\n",
    "import matplotlib.pyplot as plt\n",
    "import numpy as np\n",
    "\n",
    "# importing qiskit\n",
    "from qiskit import Aer, assemble, transpile\n",
    "from qiskit import QuantumCircuit\n",
    "\n",
    "# import basic plot & visualization tools\n",
    "import qiskit.quantum_info as qi\n",
    "from qiskit.visualization import plot_histogram, array_to_latex"
   ]
  },
  {
   "cell_type": "code",
   "execution_count": 2,
   "id": "c36d7e5c-9d8a-4461-90f1-ad2b0f8bd473",
   "metadata": {},
   "outputs": [],
   "source": [
    "def init_s(qc, qubits):\n",
    "    \"\"\"\n",
    "    Apply H gate to the qubits to \n",
    "    initialize with the superposition\n",
    "    \"\"\"\n",
    "    for q in qubits:\n",
    "        qc.h(q)\n",
    "    return qc"
   ]
  },
  {
   "cell_type": "code",
   "execution_count": 3,
   "id": "8a054767-8d68-4ddc-95cf-dfe91316fdba",
   "metadata": {},
   "outputs": [],
   "source": [
    "def create_Us(nqubits, draw=False):\n",
    "    \"\"\"\n",
    "    The transformation:\n",
    "        Us = 2|s><s| - 1\n",
    "    written in quantum circuits.\n",
    "    \"\"\"\n",
    "    \n",
    "    qc = QuantumCircuit(nqubits)\n",
    "    \n",
    "    # |s> -> |00..0> (H-gates)\n",
    "    for qubit in range(nqubits):\n",
    "        qc.h(qubit)\n",
    "    \n",
    "    # |00..0> -> |11..1> (X-gates)\n",
    "    for qubit in range(nqubits):\n",
    "        qc.x(qubit)\n",
    "    \n",
    "    # To flip the phase except |11..1>\n",
    "    # Do multi-controlled-Z gate\n",
    "    qc.h(nqubits-1)\n",
    "    qc.mct(list(range(nqubits-1)), nqubits-1)  \n",
    "    qc.h(nqubits-1)\n",
    "    \n",
    "    # |11..1> -> |00..0>\n",
    "    for qubit in range(nqubits):\n",
    "        qc.x(qubit)\n",
    "    \n",
    "    # |00..0> -> |s>\n",
    "    for qubit in range(nqubits):\n",
    "        qc.h(qubit)\n",
    "        \n",
    "    Us = qc.to_gate()\n",
    "    Us.name = \"$U_s$\"\n",
    "    \n",
    "    if draw:\n",
    "        return qc.draw()\n",
    "    return Us"
   ]
  },
  {
   "cell_type": "markdown",
   "id": "ec6ec0e8-79a5-45fa-bcd6-c1c62e116548",
   "metadata": {
    "tags": []
   },
   "source": [
    "### Oracles"
   ]
  },
  {
   "cell_type": "code",
   "execution_count": 4,
   "id": "49d6c1a0-b862-4617-baf1-9d387b029bde",
   "metadata": {},
   "outputs": [],
   "source": [
    "def example_Uw1(nqubits, draw=False):\n",
    "    qc = QuantumCircuit(nqubits)\n",
    "    qc.cz(0,1)\n",
    "    Uw = qc.to_gate()\n",
    "    Uw.name = \"$U_w$\"\n",
    "    if draw:\n",
    "        return qc.draw()\n",
    "    return Uw"
   ]
  },
  {
   "cell_type": "code",
   "execution_count": 5,
   "id": "00a14b1e-b94f-410e-9e91-cccd561b5c90",
   "metadata": {},
   "outputs": [],
   "source": [
    "def example_Uw2(nqubits, draw=False):\n",
    "    qc = QuantumCircuit(nqubits)\n",
    "    qc.ccz(0,1,2)\n",
    "    Uw = qc.to_gate()\n",
    "    Uw.name = \"$U_w$\"\n",
    "    if draw:\n",
    "        return qc.draw()\n",
    "    return Uw"
   ]
  },
  {
   "cell_type": "markdown",
   "id": "3882f85b-9744-428d-aa83-c308433301a2",
   "metadata": {
    "tags": [],
    "toc-hr-collapsed": true
   },
   "source": [
    "## Example 1: Multiple Solutions\n",
    "\n",
    "We will first consider the case where there are multiple solutions for our search. Let those elements be 3 and 7 from integers between 0 to 7. These will be represented as $|011\\rangle$ and $|111\\rangle$ states.\n",
    "\n",
    "With multiple solutions applying Grover's iterations the same way will still work. But our calculation to find the number of iterations need a little change. The equation for finding the number of optimal iterations is still the same:\n",
    "\n",
    "$$r \\approx \\frac{\\pi}{4 \\theta}$$ \n",
    "\n",
    "But the way we find $\\theta$ can be generalized with the following equation\n",
    "\n",
    "$$\\theta=2\\arcsin\\sqrt{\\frac{M}{N}}$$\n",
    "\n",
    "where $M$ is the number of solutions and $N$ is the number of elements in our database."
   ]
  },
  {
   "cell_type": "code",
   "execution_count": 6,
   "id": "abe082ac-dafe-41f5-ae45-38ae30757121",
   "metadata": {},
   "outputs": [],
   "source": [
    "def print_prob(M,N):\n",
    "    θ = np.arcsin(np.sqrt(M/N))*2\n",
    "    r=np.ceil(np.pi/(4*θ))\n",
    "    opt_val = np.sin(θ*(r+1.0/2))**2\n",
    "    print(\"Theta: \",θ,\"No. of iterations: \",r,\"Approx. Success prob.: \",opt_val)"
   ]
  },
  {
   "cell_type": "code",
   "execution_count": 7,
   "id": "12d9b1a0-0c8f-4c9f-b54a-c134dfbe5d47",
   "metadata": {},
   "outputs": [
    {
     "name": "stdout",
     "output_type": "stream",
     "text": [
      "Theta:  1.0471975511965979 No. of iterations:  1.0 Approx. Success prob.:  1.0\n",
      "Theta:  0.7227342478134157 No. of iterations:  2.0 Approx. Success prob.:  0.9453124999999999\n"
     ]
    }
   ],
   "source": [
    "M=2.0\n",
    "N=8.0\n",
    "print_prob(M,N)\n",
    "\n",
    "\n",
    "M=1.0\n",
    "N=8.0\n",
    "print_prob(M,N)"
   ]
  },
  {
   "cell_type": "markdown",
   "id": "30b5f895-7cdb-4610-8fab-39926a14ac73",
   "metadata": {},
   "source": [
    "### Creating the circuit"
   ]
  },
  {
   "cell_type": "code",
   "execution_count": 8,
   "id": "0c97e91c-92db-467f-9747-25bb5994a463",
   "metadata": {},
   "outputs": [],
   "source": [
    "n = 3 # number of qubits\n",
    "grover_circuit = QuantumCircuit(n)"
   ]
  },
  {
   "cell_type": "markdown",
   "id": "26707d3e-1770-464c-a31e-8912a935a7ed",
   "metadata": {},
   "source": [
    "### Initializing superposition"
   ]
  },
  {
   "cell_type": "code",
   "execution_count": 9,
   "id": "6f32626a-38ec-4229-8182-8f7d6bf8d7d1",
   "metadata": {},
   "outputs": [
    {
     "data": {
      "image/png": "[encoded data removed]",
      "text/plain": [
       "<Figure size 203.885x284.278 with 1 Axes>"
      ]
     },
     "execution_count": 9,
     "metadata": {},
     "output_type": "execute_result"
    }
   ],
   "source": [
    "init_s(grover_circuit, range(n))\n",
    "grover_circuit.draw()"
   ]
  },
  {
   "cell_type": "markdown",
   "id": "fd073bf1-65bb-411f-ab67-34fbbc28fc27",
   "metadata": {
    "tags": []
   },
   "source": [
    "### Creating the oracle\n",
    "\n",
    "Let's see how it looks as a circuit. Which is a Controlled-Z gate on 0 and 1."
   ]
  },
  {
   "cell_type": "code",
   "execution_count": 10,
   "id": "51e59dc9-850e-47ea-a2dc-fd27a7f4948e",
   "metadata": {},
   "outputs": [
    {
     "data": {
      "image/png": "[encoded data removed]",
      "text/plain": [
       "<Figure size 203.885x284.278 with 1 Axes>"
      ]
     },
     "execution_count": 10,
     "metadata": {},
     "output_type": "execute_result"
    }
   ],
   "source": [
    "example_Uw1(n,draw=True)"
   ]
  },
  {
   "cell_type": "code",
   "execution_count": 11,
   "id": "d545a5db-9658-48c3-a777-57ce03b46629",
   "metadata": {},
   "outputs": [],
   "source": [
    "Uw = example_Uw1(n)"
   ]
  },
  {
   "cell_type": "markdown",
   "id": "eebce7d0-7678-4f52-91d0-4259dbc535e8",
   "metadata": {},
   "source": [
    "### $U_w$ as a matrix\n",
    "we can confirm that our oracle will accept the states $|011\\rangle$ and $|111\\rangle$"
   ]
  },
  {
   "cell_type": "code",
   "execution_count": 12,
   "id": "e6f9a7a1-7bd2-4d04-bcf7-ecb7cac657ff",
   "metadata": {},
   "outputs": [
    {
     "data": {
      "text/latex": [
       "$$\n",
       "\n",
       "\\begin{bmatrix}\n",
       "1 & 0 & 0 & 0 & 0 & 0 & 0 & 0  \\\\\n",
       " 0 & 1 & 0 & 0 & 0 & 0 & 0 & 0  \\\\\n",
       " 0 & 0 & 1 & 0 & 0 & 0 & 0 & 0  \\\\\n",
       " 0 & 0 & 0 & -1 & 0 & 0 & 0 & 0  \\\\\n",
       " 0 & 0 & 0 & 0 & 1 & 0 & 0 & 0  \\\\\n",
       " 0 & 0 & 0 & 0 & 0 & 1 & 0 & 0  \\\\\n",
       " 0 & 0 & 0 & 0 & 0 & 0 & 1 & 0  \\\\\n",
       " 0 & 0 & 0 & 0 & 0 & 0 & 0 & -1  \\\\\n",
       " \\end{bmatrix}\n",
       "$$"
      ],
      "text/plain": [
       "<IPython.core.display.Latex object>"
      ]
     },
     "execution_count": 12,
     "metadata": {},
     "output_type": "execute_result"
    }
   ],
   "source": [
    "array_to_latex(qi.Operator(Uw))"
   ]
  },
  {
   "cell_type": "markdown",
   "id": "a1c9f5a9-d375-475c-9bf0-25d5f8143249",
   "metadata": {},
   "source": [
    "### Adding the oracle to the circuit"
   ]
  },
  {
   "cell_type": "code",
   "execution_count": 13,
   "id": "b2bf7eab-e361-449a-a6dc-2eac1fdeac5e",
   "metadata": {},
   "outputs": [
    {
     "data": {
      "image/png": "[encoded data removed]",
      "text/plain": [
       "<Figure size 287.496x284.278 with 1 Axes>"
      ]
     },
     "execution_count": 13,
     "metadata": {},
     "output_type": "execute_result"
    }
   ],
   "source": [
    "grover_circuit.append(Uw, range(n))\n",
    "grover_circuit.draw()\n"
   ]
  },
  {
   "cell_type": "markdown",
   "id": "b4a32eca-6e45-43e1-962d-58afad1cb7f8",
   "metadata": {},
   "source": [
    "### Circuit of $U_s$ "
   ]
  },
  {
   "cell_type": "code",
   "execution_count": 14,
   "id": "526b66fb-c69c-467e-8bee-93adf7409518",
   "metadata": {},
   "outputs": [
    {
     "data": {
      "image/png": "[encoded data removed]",
      "text/plain": [
       "<Figure size 705.552x284.278 with 1 Axes>"
      ]
     },
     "execution_count": 14,
     "metadata": {},
     "output_type": "execute_result"
    }
   ],
   "source": [
    "create_Us(n,True)"
   ]
  },
  {
   "cell_type": "markdown",
   "id": "f71bc2e3-a001-47ad-8563-04d63fa513a7",
   "metadata": {},
   "source": [
    "### Adding $U_s$"
   ]
  },
  {
   "cell_type": "code",
   "execution_count": 15,
   "id": "6b7c6dfc-ab6a-4568-aa03-06834e72b732",
   "metadata": {},
   "outputs": [
    {
     "data": {
      "image/png": "[encoded data removed]",
      "text/plain": [
       "<Figure size 371.107x284.278 with 1 Axes>"
      ]
     },
     "execution_count": 15,
     "metadata": {},
     "output_type": "execute_result"
    }
   ],
   "source": [
    "grover_circuit.append(create_Us(n),range(n))\n",
    "grover_circuit.draw()"
   ]
  },
  {
   "cell_type": "markdown",
   "id": "a3067706-0cf3-450d-9c0f-c960664f61bb",
   "metadata": {},
   "source": [
    "### Final look of the circuit"
   ]
  },
  {
   "cell_type": "code",
   "execution_count": 16,
   "id": "b99de42b-fb5a-4265-b868-95a33294257b",
   "metadata": {},
   "outputs": [
    {
     "data": {
      "image/png": "[encoded data removed]",
      "text/plain": [
       "<Figure size 747.609x367.889 with 1 Axes>"
      ]
     },
     "execution_count": 16,
     "metadata": {},
     "output_type": "execute_result"
    }
   ],
   "source": [
    "grover_circuit.measure_all()\n",
    "grover_circuit.draw()"
   ]
  },
  {
   "cell_type": "markdown",
   "id": "4831457b-aa12-492b-b3ff-21afec0c7a42",
   "metadata": {},
   "source": [
    "### Simulating the circuit"
   ]
  },
  {
   "cell_type": "code",
   "execution_count": 17,
   "id": "16abec3c-2968-4e47-b698-f02840239fca",
   "metadata": {},
   "outputs": [
    {
     "data": {
      "image/png": "[encoded data removed]",
      "text/plain": [
       "<Figure size 700x500 with 1 Axes>"
      ]
     },
     "execution_count": 17,
     "metadata": {},
     "output_type": "execute_result"
    }
   ],
   "source": [
    "aer_sim = Aer.get_backend('aer_simulator')\n",
    "transpiled_grover_circuit = transpile(grover_circuit, aer_sim)\n",
    "qobj = assemble(transpiled_grover_circuit)\n",
    "results = aer_sim.run(qobj).result()\n",
    "counts = results.get_counts()\n",
    "plot_histogram(counts)\n"
   ]
  },
  {
   "cell_type": "markdown",
   "id": "d7037691-b03f-4c4e-8aeb-04021ddda95e",
   "metadata": {
    "toc-hr-collapsed": true
   },
   "source": [
    "## Example 2: One solution, multiple iterations\n",
    "\n",
    "This time let us search for the element 7 from integers between 0 to 7. This will be represented as the $|111\\rangle$ state."
   ]
  },
  {
   "cell_type": "code",
   "execution_count": 18,
   "id": "afca32e5-bba7-4f2f-82bb-0671b531263c",
   "metadata": {},
   "outputs": [],
   "source": [
    "n=3\n",
    "grover_circuit = QuantumCircuit(n)"
   ]
  },
  {
   "cell_type": "markdown",
   "id": "993130d8-f10d-491f-b513-2e3d238af225",
   "metadata": {
    "tags": []
   },
   "source": [
    "### The Oracle\n",
    "\n",
    "Let's see how it looks as a circuit."
   ]
  },
  {
   "cell_type": "code",
   "execution_count": 19,
   "id": "2a2c0554-e734-4b6c-9d5b-90d2adcfaea1",
   "metadata": {},
   "outputs": [
    {
     "data": {
      "image/png": "[encoded data removed]",
      "text/plain": [
       "<Figure size 203.885x284.278 with 1 Axes>"
      ]
     },
     "execution_count": 19,
     "metadata": {},
     "output_type": "execute_result"
    }
   ],
   "source": [
    "example_Uw2(n,draw=True)"
   ]
  },
  {
   "cell_type": "markdown",
   "id": "82aacc09-8c4c-420f-b7e5-c850dcb353e4",
   "metadata": {},
   "source": [
    "### $U_w$ as a matrix\n",
    "we can confirm that our oracle will accept the state $|111\\rangle$."
   ]
  },
  {
   "cell_type": "code",
   "execution_count": 20,
   "id": "c389bc5b-9b6e-45d8-9028-80c36506e4b2",
   "metadata": {},
   "outputs": [
    {
     "data": {
      "text/latex": [
       "$$\n",
       "\n",
       "\\begin{bmatrix}\n",
       "1 & 0 & 0 & 0 & 0 & 0 & 0 & 0  \\\\\n",
       " 0 & 1 & 0 & 0 & 0 & 0 & 0 & 0  \\\\\n",
       " 0 & 0 & 1 & 0 & 0 & 0 & 0 & 0  \\\\\n",
       " 0 & 0 & 0 & 1 & 0 & 0 & 0 & 0  \\\\\n",
       " 0 & 0 & 0 & 0 & 1 & 0 & 0 & 0  \\\\\n",
       " 0 & 0 & 0 & 0 & 0 & 1 & 0 & 0  \\\\\n",
       " 0 & 0 & 0 & 0 & 0 & 0 & 1 & 0  \\\\\n",
       " 0 & 0 & 0 & 0 & 0 & 0 & 0 & -1  \\\\\n",
       " \\end{bmatrix}\n",
       "$$"
      ],
      "text/plain": [
       "<IPython.core.display.Latex object>"
      ]
     },
     "execution_count": 20,
     "metadata": {},
     "output_type": "execute_result"
    }
   ],
   "source": [
    "Uw = example_Uw2(n)\n",
    "array_to_latex(qi.Operator(Uw))"
   ]
  },
  {
   "cell_type": "markdown",
   "id": "781479f9-63db-4115-8994-25d937c4762a",
   "metadata": {},
   "source": [
    "### Writing the algorithm"
   ]
  },
  {
   "cell_type": "code",
   "execution_count": 21,
   "id": "25e555ed-8f04-4156-9e6e-7f2b9f9a9dd6",
   "metadata": {},
   "outputs": [],
   "source": [
    "init_s(grover_circuit, range(n)) # initialization to superposition\n",
    "for i in range(2): # grover iterations\n",
    "    grover_circuit.append(example_Uw2(n), range(n)) # add Uw\n",
    "    grover_circuit.append(create_Us(n),range(n)) # add Us"
   ]
  },
  {
   "cell_type": "markdown",
   "id": "12aefda0-2d80-4e60-a9c3-8c0ddf259660",
   "metadata": {},
   "source": [
    "### Final look of the circuit"
   ]
  },
  {
   "cell_type": "code",
   "execution_count": 22,
   "id": "c53240c3-a0b9-4813-88d4-9aaf8834d9d0",
   "metadata": {},
   "outputs": [
    {
     "data": {
      "image/png": "[encoded data removed]",
      "text/plain": [
       "<Figure size 914.831x367.889 with 1 Axes>"
      ]
     },
     "execution_count": 22,
     "metadata": {},
     "output_type": "execute_result"
    }
   ],
   "source": [
    "grover_circuit.measure_all()\n",
    "grover_circuit.draw()"
   ]
  },
  {
   "cell_type": "markdown",
   "id": "d26bf2ed-bc95-41b2-91aa-220005345c93",
   "metadata": {},
   "source": [
    "### Simulating the circuit"
   ]
  },
  {
   "cell_type": "code",
   "execution_count": 23,
   "id": "b3117cd7-b043-42d9-960e-bde3466cee19",
   "metadata": {},
   "outputs": [
    {
     "data": {
      "image/png": "[encoded data removed]",
      "text/plain": [
       "<Figure size 700x500 with 1 Axes>"
      ]
     },
     "execution_count": 23,
     "metadata": {},
     "output_type": "execute_result"
    }
   ],
   "source": [
    "aer_sim = Aer.get_backend('aer_simulator')\n",
    "transpiled_grover_circuit = transpile(grover_circuit, aer_sim)\n",
    "qobj = assemble(transpiled_grover_circuit)\n",
    "results = aer_sim.run(qobj).result()\n",
    "counts = results.get_counts()\n",
    "plot_histogram(counts)\n"
   ]
  },
  {
   "cell_type": "markdown",
   "id": "6debada3-5d02-4278-9e70-07ae6e656837",
   "metadata": {
    "toc-hr-collapsed": true
   },
   "source": [
    "## References/Credits\n",
    "\n",
    "Some code snippets are from the following web pages:\n",
    "- https://qiskit.org/textbook/ch-algorithms/grover.html#Contents\n",
    "- https://you.stonybrook.edu/qcomputing/2018/07/18/2-3-qubit-grovers-algorithm/\n"
   ]
  }
 ],
 "metadata": {
  "kernelspec": {
   "display_name": "quant",
   "language": "python",
   "name": "quant"
  },
  "language_info": {
   "codemirror_mode": {
    "name": "ipython",
    "version": 3
   },
   "file_extension": ".py",
   "mimetype": "text/x-python",
   "name": "python",
   "nbconvert_exporter": "python",
   "pygments_lexer": "ipython3",
   "version": "3.11.0"
  }
 },
 "nbformat": 4,
 "nbformat_minor": 5
}
